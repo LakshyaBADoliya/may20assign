{
 "cells": [
  {
   "cell_type": "code",
   "execution_count": 1,
   "id": "12214731-a133-4cfb-ba7e-853d5a516048",
   "metadata": {},
   "outputs": [
    {
     "name": "stdout",
     "output_type": "stream",
     "text": [
      "xxxxx\n"
     ]
    }
   ],
   "source": [
    "def generate_n_chars(length, character):\n",
    "    output = \"\"\n",
    "    for _ in range(length):\n",
    "        output += character\n",
    "    return output\n",
    "\n",
    "# Example usage:\n",
    "print(generate_n_chars(5, \"x\"))  # Output: \"xxxxx\"\n"
   ]
  },
  {
   "cell_type": "code",
   "execution_count": 2,
   "id": "ee874545-c7a4-4aac-8dce-d18351b09466",
   "metadata": {},
   "outputs": [
    {
     "name": "stdout",
     "output_type": "stream",
     "text": [
      "8\n",
      "-3\n"
     ]
    }
   ],
   "source": [
    "def max_in_list(numbers):\n",
    "    if not numbers:  # Check if the list is empty\n",
    "        raise ValueError(\"The list is empty\")\n",
    "    \n",
    "    max_number = numbers[0]  # Assume the first number is the largest initially\n",
    "    for number in numbers:\n",
    "        if number > max_number:\n",
    "            max_number = number\n",
    "    return max_number\n",
    "\n",
    "# Example usage:\n",
    "print(max_in_list([3, 5, 7, 2, 8]))  # Output: 8\n",
    "print(max_in_list([-10, -5, -3, -8]))  # Output: -3\n"
   ]
  },
  {
   "cell_type": "code",
   "execution_count": 3,
   "id": "900696ec-1b20-4c65-bf48-bf9008d7637a",
   "metadata": {},
   "outputs": [
    {
     "name": "stdout",
     "output_type": "stream",
     "text": [
      "[5, 6, 6, 4]\n"
     ]
    }
   ],
   "source": [
    "def map_words_to_lengths(words):\n",
    "    return [len(word) for word in words]\n",
    "\n",
    "# Example usage:\n",
    "words_list = [\"apple\", \"banana\", \"cherry\", \"date\"]\n",
    "lengths_list = map_words_to_lengths(words_list)\n",
    "print(lengths_list)  # Output: [5, 6, 6, 4]\n"
   ]
  },
  {
   "cell_type": "code",
   "execution_count": 4,
   "id": "02a7b5f9-e670-455e-8a39-87cf34597fa4",
   "metadata": {},
   "outputs": [
    {
     "name": "stdout",
     "output_type": "stream",
     "text": [
      "6\n"
     ]
    }
   ],
   "source": [
    "def find_longest_word(words):\n",
    "    if not words:  # Check if the list is empty\n",
    "        raise ValueError(\"The list is empty\")\n",
    "    \n",
    "    max_length = 0\n",
    "    for word in words:\n",
    "        if len(word) > max_length:\n",
    "            max_length = len(word)\n",
    "    return max_length\n",
    "\n",
    "# Example usage:\n",
    "words_list = [\"apple\", \"banana\", \"cherry\", \"date\"]\n",
    "print(find_longest_word(words_list))  # Output: 6\n"
   ]
  },
  {
   "cell_type": "code",
   "execution_count": 5,
   "id": "0cc03d9d-9cbe-4552-8edc-94cc3c82ff28",
   "metadata": {},
   "outputs": [
    {
     "name": "stdout",
     "output_type": "stream",
     "text": [
      "['banana', 'cherry']\n"
     ]
    }
   ],
   "source": [
    "def filter_long_words(words, n):\n",
    "    return [word for word in words if len(word) > n]\n",
    "\n",
    "# Example usage:\n",
    "words_list = [\"apple\", \"banana\", \"cherry\", \"date\"]\n",
    "n = 5\n",
    "print(filter_long_words(words_list, n))  # Output: ['banana', 'cherry']\n"
   ]
  },
  {
   "cell_type": "code",
   "execution_count": 6,
   "id": "7cdc0144-b994-450d-a15f-179ee52329ad",
   "metadata": {},
   "outputs": [
    {
     "name": "stdout",
     "output_type": "stream",
     "text": [
      "\"Go hang a salami I'm a lasagna hog.\" is a palindrome.\n",
      "\"Was it a rat I saw?\" is a palindrome.\n",
      "\"Step on no pets\" is a palindrome.\n",
      "\"Sit on a potato pan, Otis\" is a palindrome.\n",
      "\"Lisa Bonet ate no basil\" is a palindrome.\n",
      "\"Satan, oscillate my metallic sonatas\" is a palindrome.\n",
      "\"I roamed under it as a tired nude Maori\" is a palindrome.\n",
      "\"Rise to vote sir\" is a palindrome.\n",
      "\"Dammit, I'm mad!\" is a palindrome.\n"
     ]
    }
   ],
   "source": [
    "import re\n",
    "\n",
    "def is_palindrome(phrase):\n",
    "    # Remove punctuation and spaces, and convert to lowercase\n",
    "    cleaned_phrase = re.sub(r'[^a-zA-Z]', '', phrase).lower()\n",
    "    # Check if the cleaned phrase is equal to its reverse\n",
    "    return cleaned_phrase == cleaned_phrase[::-1]\n",
    "\n",
    "# Examples of phrase palindromes\n",
    "phrases = [\n",
    "    \"Go hang a salami I'm a lasagna hog.\",\n",
    "    \"Was it a rat I saw?\",\n",
    "    \"Step on no pets\",\n",
    "    \"Sit on a potato pan, Otis\",\n",
    "    \"Lisa Bonet ate no basil\",\n",
    "    \"Satan, oscillate my metallic sonatas\",\n",
    "    \"I roamed under it as a tired nude Maori\",\n",
    "    \"Rise to vote sir\",\n",
    "    \"Dammit, I'm mad!\"\n",
    "]\n",
    "\n",
    "for phrase in phrases:\n",
    "    if is_palindrome(phrase):\n",
    "        print(f'\"{phrase}\" is a palindrome.')\n",
    "    else:\n",
    "        print(f'\"{phrase}\" is not a palindrome.')\n"
   ]
  },
  {
   "cell_type": "code",
   "execution_count": 7,
   "id": "8ee58722-db23-4c60-94a4-e44e5e8acb18",
   "metadata": {},
   "outputs": [
    {
     "name": "stdout",
     "output_type": "stream",
     "text": [
      "\"The quick brown fox jumps over the lazy dog.\" is a pangram.\n"
     ]
    }
   ],
   "source": [
    "def is_pangram(sentence):\n",
    "    # Create a set to store encountered letters\n",
    "    letters = set()\n",
    "    # Iterate through each character in the sentence\n",
    "    for char in sentence:\n",
    "        # Convert character to lowercase\n",
    "        char_lower = char.lower()\n",
    "        # Check if character is alphabetic\n",
    "        if char_lower.isalpha():\n",
    "            # Add the lowercase character to the set\n",
    "            letters.add(char_lower)\n",
    "    # Check if all 26 letters have been encountered\n",
    "    return len(letters) == 26\n",
    "\n",
    "# Example sentence\n",
    "sentence = \"The quick brown fox jumps over the lazy dog.\"\n",
    "# Check if the sentence is a pangram\n",
    "if is_pangram(sentence):\n",
    "    print(f'\"{sentence}\" is a pangram.')\n",
    "else:\n",
    "    print(f'\"{sentence}\" is not a pangram.')\n"
   ]
  },
  {
   "cell_type": "code",
   "execution_count": 8,
   "id": "c69fdb74-2b0a-4d6d-a3c6-70b32aff6ba4",
   "metadata": {},
   "outputs": [
    {
     "name": "stdout",
     "output_type": "stream",
     "text": [
      "['god', 'jul', 'och', 'gott', 'nytt', 'år']\n"
     ]
    }
   ],
   "source": [
    "def translate(english_words, lexicon):\n",
    "    translated_words = []\n",
    "    for word in english_words:\n",
    "        translated_words.append(lexicon.get(word, word))\n",
    "    return translated_words\n",
    "\n",
    "# Bilingual lexicon\n",
    "bilingual_lexicon = {\n",
    "    \"merry\": \"god\",\n",
    "    \"christmas\": \"jul\",\n",
    "    \"and\": \"och\",\n",
    "    \"happy\": \"gott\",\n",
    "    \"new\": \"nytt\",\n",
    "    \"year\": \"år\"\n",
    "}\n",
    "\n",
    "# English Christmas card\n",
    "english_card = [\"merry\", \"christmas\", \"and\", \"happy\", \"new\", \"year\"]\n",
    "\n",
    "# Translate the English Christmas card into Swedish\n",
    "swedish_card = translate(english_card, bilingual_lexicon)\n",
    "print(swedish_card)\n"
   ]
  },
  {
   "cell_type": "code",
   "execution_count": 9,
   "id": "9d054579-5da8-4175-8dfa-6c589c4e07e7",
   "metadata": {},
   "outputs": [
    {
     "name": "stdout",
     "output_type": "stream",
     "text": [
      "{'a': 7, 'b': 14, 'c': 3, 'd': 3}\n"
     ]
    }
   ],
   "source": [
    "def char_frequency(string):\n",
    "    frequency_listing = {}\n",
    "    \n",
    "    for char in string:\n",
    "        if char in frequency_listing:\n",
    "            frequency_listing[char] += 1\n",
    "        else:\n",
    "            frequency_listing[char] = 1\n",
    "            \n",
    "    return frequency_listing\n",
    "\n",
    "# Example usage:\n",
    "string = \"abbabcbdbabdbdbabababcbcbab\"\n",
    "frequency = char_frequency(string)\n",
    "print(frequency)\n"
   ]
  },
  {
   "cell_type": "code",
   "execution_count": null,
   "id": "3df3d15d-4c98-46f0-8e7d-5563bc90cd68",
   "metadata": {},
   "outputs": [],
   "source": []
  }
 ],
 "metadata": {
  "kernelspec": {
   "display_name": "Python 3 (ipykernel)",
   "language": "python",
   "name": "python3"
  },
  "language_info": {
   "codemirror_mode": {
    "name": "ipython",
    "version": 3
   },
   "file_extension": ".py",
   "mimetype": "text/x-python",
   "name": "python",
   "nbconvert_exporter": "python",
   "pygments_lexer": "ipython3",
   "version": "3.11.4"
  }
 },
 "nbformat": 4,
 "nbformat_minor": 5
}
